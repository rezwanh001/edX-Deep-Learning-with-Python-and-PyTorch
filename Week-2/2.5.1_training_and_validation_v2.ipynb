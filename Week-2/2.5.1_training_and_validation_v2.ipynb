{
 "cells": [
  {
   "cell_type": "markdown",
   "metadata": {},
   "source": [
    "<a href=\"http://cocl.us/pytorch_link_top\">\n",
    "    <img src=\"https://s3-api.us-geo.objectstorage.softlayer.net/cf-courses-data/CognitiveClass/DL0110EN/notebook_images%20/Pytochtop.png\" width=\"750\" alt=\"IBM Product \" />\n",
    "</a> "
   ]
  },
  {
   "cell_type": "markdown",
   "metadata": {},
   "source": [
    "<img src=\"https://s3-api.us-geo.objectstorage.softlayer.net/cf-courses-data/CognitiveClass/DL0110EN/notebook_images%20/cc-logo-square.png\" width=\"200\" alt=\"cognitiveclass.ai logo\" />"
   ]
  },
  {
   "cell_type": "markdown",
   "metadata": {},
   "source": [
    "<h1>Linear regression: Training and Validation Data</h1> "
   ]
  },
  {
   "cell_type": "markdown",
   "metadata": {},
   "source": [
    "<h2>Table of Contents</h2>\n",
    "<p>In this lab, you will learn to select the best learning rate by using validation data.</p>\n",
    "\n",
    "<ul>\n",
    "    <li><a href=\"#Makeup_Data\">Make Some Data</a></li>\n",
    "    <li><a href=\"#LR_Loader_Cost\">Create a Linear Regression Object, Data Loader and Criterion Function</a></li>\n",
    "    <li><a href=\"#LR_Hyper\">Different learning rates and Data Structures to Store results for Different Hyperparameters</a></li>\n",
    "    <li><a href=\"#Model\">Train different modules for different Hyperparameters</a></li>\n",
    "    <li><a href=\"#Result\">View Results</a></li>\n",
    "</ul>\n",
    "\n",
    "<p>Estimated Time Needed: <strong>30 min</strong></p>\n",
    "\n",
    "<hr>"
   ]
  },
  {
   "cell_type": "markdown",
   "metadata": {},
   "source": [
    "<h2>Preparation</h2>"
   ]
  },
  {
   "cell_type": "markdown",
   "metadata": {},
   "source": [
    "We'll need the following libraries and set the random seed."
   ]
  },
  {
   "cell_type": "code",
   "execution_count": 1,
   "metadata": {},
   "outputs": [],
   "source": [
    "# Import libraries we need for this lab, and set the random seed\n",
    "\n",
    "from torch import nn\n",
    "import torch\n",
    "import numpy as np\n",
    "import matplotlib.pyplot as plt\n",
    "from torch import nn,optim"
   ]
  },
  {
   "cell_type": "markdown",
   "metadata": {},
   "source": [
    "<!--Empty Space for separating topics-->"
   ]
  },
  {
   "cell_type": "markdown",
   "metadata": {},
   "source": [
    "<h2 id=\"Makeup_Data\">Make Some Data</h2>"
   ]
  },
  {
   "cell_type": "markdown",
   "metadata": {},
   "source": [
    "First, we'll create some artificial data in a dataset class. The class will include the option to produce training data or validation data. The training data will include outliers."
   ]
  },
  {
   "cell_type": "code",
   "execution_count": 2,
   "metadata": {},
   "outputs": [],
   "source": [
    "# Create Data class\n",
    "\n",
    "from torch.utils.data import Dataset, DataLoader\n",
    "\n",
    "class Data(Dataset):\n",
    "    \n",
    "    # Constructor\n",
    "    def __init__(self, train = True):\n",
    "            self.x = torch.arange(-3, 3, 0.1).view(-1, 1)\n",
    "            self.f = -3 * self.x + 1\n",
    "            self.y = self.f + 0.1 * torch.randn(self.x.size())\n",
    "            self.len = self.x.shape[0]\n",
    "            \n",
    "            #outliers \n",
    "            if train == True:\n",
    "                self.y[0] = 0\n",
    "                self.y[50:55] = 20\n",
    "            else:\n",
    "                pass\n",
    "      \n",
    "    # Getter\n",
    "    def __getitem__(self, index):    \n",
    "        return self.x[index], self.y[index]\n",
    "    \n",
    "    # Get Length\n",
    "    def __len__(self):\n",
    "        return self.len"
   ]
  },
  {
   "cell_type": "markdown",
   "metadata": {},
   "source": [
    "Create two objects: one that contains training data and a second that contains validation data. Assume that the training data has the outliers. "
   ]
  },
  {
   "cell_type": "code",
   "execution_count": 3,
   "metadata": {},
   "outputs": [],
   "source": [
    "# Create training dataset and validation dataset\n",
    "\n",
    "train_data = Data()\n",
    "val_data = Data(train = False)"
   ]
  },
  {
   "cell_type": "markdown",
   "metadata": {},
   "source": [
    "Overlay the training points in red over the function that generated the data. Notice the outliers at x=-3 and around x=2:"
   ]
  },
  {
   "cell_type": "code",
   "execution_count": 4,
   "metadata": {},
   "outputs": [
    {
     "data": {
      "image/png": "[encoded data removed]",
      "text/plain": [
       "<Figure size 432x288 with 1 Axes>"
      ]
     },
     "metadata": {
      "needs_background": "light"
     },
     "output_type": "display_data"
    }
   ],
   "source": [
    "# Plot out training points\n",
    "\n",
    "plt.plot(train_data.x.numpy(), train_data.y.numpy(), 'xr')\n",
    "plt.plot(train_data.x.numpy(), train_data.f.numpy())\n",
    "plt.show()"
   ]
  },
  {
   "cell_type": "markdown",
   "metadata": {},
   "source": [
    "<!--Empty Space for separating topics-->"
   ]
  },
  {
   "cell_type": "markdown",
   "metadata": {},
   "source": [
    "<h2 id=\"LR_Loader_Cost\">Create a Linear Regression Object,  Data Loader, and Criterion Function</h2>"
   ]
  },
  {
   "cell_type": "code",
   "execution_count": 5,
   "metadata": {},
   "outputs": [],
   "source": [
    "# Create Linear Regression Class\n",
    "\n",
    "from torch import nn\n",
    "\n",
    "class linear_regression(nn.Module):\n",
    "    \n",
    "    # Constructor\n",
    "    def __init__(self, input_size, output_size):\n",
    "        super(linear_regression, self).__init__()\n",
    "        self.linear = nn.Linear(input_size, output_size)\n",
    "    \n",
    "    # Prediction function\n",
    "    def forward(self, x):\n",
    "        yhat = self.linear(x)\n",
    "        return yhat"
   ]
  },
  {
   "cell_type": "markdown",
   "metadata": {},
   "source": [
    "Create the criterion function and a <code>DataLoader</code> object: "
   ]
  },
  {
   "cell_type": "code",
   "execution_count": 6,
   "metadata": {},
   "outputs": [],
   "source": [
    "# Create MSELoss function and DataLoader\n",
    "\n",
    "criterion = nn.MSELoss()\n",
    "trainloader = DataLoader(dataset = train_data, batch_size = 1)"
   ]
  },
  {
   "cell_type": "markdown",
   "metadata": {},
   "source": [
    "<!--Empty Space for separating topics-->"
   ]
  },
  {
   "cell_type": "markdown",
   "metadata": {},
   "source": [
    "<h2 id=\"LR_Hyper\">Different learning rates and Data Structures to Store results for different Hyperparameters</h2>"
   ]
  },
  {
   "cell_type": "markdown",
   "metadata": {},
   "source": [
    "Create a list with different learning rates and a tensor (can be a list) for the training and validating cost/total loss. Include the list MODELS, which stores the training model for every value of the learning rate. "
   ]
  },
  {
   "cell_type": "code",
   "execution_count": 7,
   "metadata": {},
   "outputs": [],
   "source": [
    "# Create Learning Rate list, the error lists and the MODELS list\n",
    "\n",
    "learning_rates=[0.0001, 0.001, 0.01, 0.1]\n",
    "\n",
    "train_error=torch.zeros(len(learning_rates))\n",
    "validation_error=torch.zeros(len(learning_rates))\n",
    "\n",
    "MODELS=[]"
   ]
  },
  {
   "cell_type": "markdown",
   "metadata": {},
   "source": [
    "<!--Empty Space for separating topics-->"
   ]
  },
  {
   "cell_type": "markdown",
   "metadata": {},
   "source": [
    "<h2 id=\"Model\">Train different models  for different Hyperparameters</h2>"
   ]
  },
  {
   "cell_type": "markdown",
   "metadata": {},
   "source": [
    "Try different values of learning rates, perform stochastic gradient descent, and save the results on the training data and validation data. Finally, save each model in a list."
   ]
  },
  {
   "cell_type": "code",
   "execution_count": 8,
   "metadata": {},
   "outputs": [],
   "source": [
    "# Define the train model function and train the model\n",
    "\n",
    "def train_model_with_lr (iter, lr_list):\n",
    "    \n",
    "    # iterate through different learning rates \n",
    "    for i, lr in enumerate(lr_list):\n",
    "        model = linear_regression(1, 1)\n",
    "        optimizer = optim.SGD(model.parameters(), lr = lr)\n",
    "        for epoch in range(iter):\n",
    "            for x, y in trainloader:\n",
    "                yhat = model(x)\n",
    "                loss = criterion(yhat, y)\n",
    "                optimizer.zero_grad()\n",
    "                loss.backward()\n",
    "                optimizer.step()\n",
    "                \n",
    "        # train data\n",
    "        Yhat = model(train_data.x)\n",
    "        train_loss = criterion(Yhat, train_data.y)\n",
    "        train_error[i] = train_loss.item()\n",
    "    \n",
    "        # validation data\n",
    "        Yhat = model(val_data.x)\n",
    "        val_loss = criterion(Yhat, val_data.y)\n",
    "        validation_error[i] = val_loss.item()\n",
    "        MODELS.append(model)\n",
    "\n",
    "train_model_with_lr(10, learning_rates)"
   ]
  },
  {
   "cell_type": "markdown",
   "metadata": {},
   "source": [
    "<!--Empty Space for separating topics-->"
   ]
  },
  {
   "cell_type": "markdown",
   "metadata": {},
   "source": [
    "<h2 id=\"Result\">View the Results</h2>"
   ]
  },
  {
   "cell_type": "markdown",
   "metadata": {},
   "source": [
    "Plot the training loss and validation loss for each learning rate:  "
   ]
  },
  {
   "cell_type": "code",
   "execution_count": 9,
   "metadata": {},
   "outputs": [
    {
     "data": {
      "image/png": "[encoded data removed]",
      "text/plain": [
       "<Figure size 432x288 with 1 Axes>"
      ]
     },
     "metadata": {
      "needs_background": "light"
     },
     "output_type": "display_data"
    }
   ],
   "source": [
    "# Plot the training loss and validation loss\n",
    "\n",
    "plt.semilogx(np.array(learning_rates), train_error.numpy(), label = 'training loss/total Loss')\n",
    "plt.semilogx(np.array(learning_rates), validation_error.numpy(), label = 'validation cost/total Loss')\n",
    "plt.ylabel('Cost\\ Total Loss')\n",
    "plt.xlabel('learning rate')\n",
    "plt.legend()\n",
    "plt.show()"
   ]
  },
  {
   "cell_type": "markdown",
   "metadata": {},
   "source": [
    "Produce a prediction by using the validation data for each model:  "
   ]
  },
  {
   "cell_type": "code",
   "execution_count": 10,
   "metadata": {},
   "outputs": [
    {
     "name": "stdout",
     "output_type": "stream",
     "text": [
      "i [[2.5560641]\n",
      " [2.497886 ]\n",
      " [2.439708 ]]\n",
      "i [[5.6254387]\n",
      " [5.50935  ]\n",
      " [5.3932614]]\n",
      "i [[6.6099744]\n",
      " [6.4752283]\n",
      " [6.3404818]]\n",
      "i [[14.766181]\n",
      " [14.321185]\n",
      " [13.876187]]\n"
     ]
    },
    {
     "data": {
      "image/png": "[encoded data removed]",
      "text/plain": [
       "<Figure size 432x288 with 1 Axes>"
      ]
     },
     "metadata": {
      "needs_background": "light"
     },
     "output_type": "display_data"
    }
   ],
   "source": [
    "# Plot the predictions\n",
    "\n",
    "i = 0\n",
    "for model, learning_rate in zip(MODELS, learning_rates):\n",
    "    yhat = model(val_data.x)\n",
    "    plt.plot(val_data.x.numpy(), yhat.detach().numpy(), label = 'lr:' + str(learning_rate))\n",
    "    print('i', yhat.detach().numpy()[0:3])\n",
    "plt.plot(val_data.x.numpy(), val_data.f.numpy(), 'or', label = 'validation data')\n",
    "plt.xlabel('x')\n",
    "plt.ylabel('y')\n",
    "plt.legend()\n",
    "plt.show()"
   ]
  },
  {
   "cell_type": "markdown",
   "metadata": {},
   "source": [
    "<!--Empty Space for separating topics-->"
   ]
  },
  {
   "cell_type": "markdown",
   "metadata": {},
   "source": [
    "<h3>Practice</h3>"
   ]
  },
  {
   "cell_type": "markdown",
   "metadata": {},
   "source": [
    "The object <code>good_model</code> is the best performing model. Use the train loader to get the data samples x and y. Produce an estimate for <code>yhat</code> and print it out for every sample in a for a loop. Compare it to the actual prediction <code>y</code>."
   ]
  },
  {
   "cell_type": "code",
   "execution_count": 12,
   "metadata": {},
   "outputs": [
    {
     "name": "stdout",
     "output_type": "stream",
     "text": [
      "yhat=  tensor([[6.6100]], grad_fn=<AddmmBackward>) y tensor([[0.]])\n",
      "yhat=  tensor([[6.4752]], grad_fn=<AddmmBackward>) y tensor([[9.7443]])\n",
      "yhat=  tensor([[6.3405]], grad_fn=<AddmmBackward>) y tensor([[9.4482]])\n",
      "yhat=  tensor([[6.2057]], grad_fn=<AddmmBackward>) y tensor([[9.1111]])\n",
      "yhat=  tensor([[6.0710]], grad_fn=<AddmmBackward>) y tensor([[8.9825]])\n",
      "yhat=  tensor([[5.9362]], grad_fn=<AddmmBackward>) y tensor([[8.4027]])\n",
      "yhat=  tensor([[5.8015]], grad_fn=<AddmmBackward>) y tensor([[8.2391]])\n",
      "yhat=  tensor([[5.6667]], grad_fn=<AddmmBackward>) y tensor([[7.9091]])\n",
      "yhat=  tensor([[5.5320]], grad_fn=<AddmmBackward>) y tensor([[7.6509]])\n",
      "yhat=  tensor([[5.3973]], grad_fn=<AddmmBackward>) y tensor([[7.1646]])\n",
      "yhat=  tensor([[5.2625]], grad_fn=<AddmmBackward>) y tensor([[6.9231]])\n",
      "yhat=  tensor([[5.1278]], grad_fn=<AddmmBackward>) y tensor([[6.5094]])\n",
      "yhat=  tensor([[4.9930]], grad_fn=<AddmmBackward>) y tensor([[6.4408]])\n",
      "yhat=  tensor([[4.8583]], grad_fn=<AddmmBackward>) y tensor([[6.1898]])\n",
      "yhat=  tensor([[4.7235]], grad_fn=<AddmmBackward>) y tensor([[5.8305]])\n",
      "yhat=  tensor([[4.5888]], grad_fn=<AddmmBackward>) y tensor([[5.4954]])\n",
      "yhat=  tensor([[4.4540]], grad_fn=<AddmmBackward>) y tensor([[5.1977]])\n",
      "yhat=  tensor([[4.3193]], grad_fn=<AddmmBackward>) y tensor([[4.9213]])\n",
      "yhat=  tensor([[4.1845]], grad_fn=<AddmmBackward>) y tensor([[4.7170]])\n",
      "yhat=  tensor([[4.0498]], grad_fn=<AddmmBackward>) y tensor([[4.2046]])\n",
      "yhat=  tensor([[3.9150]], grad_fn=<AddmmBackward>) y tensor([[4.0358]])\n",
      "yhat=  tensor([[3.7803]], grad_fn=<AddmmBackward>) y tensor([[3.5571]])\n",
      "yhat=  tensor([[3.6456]], grad_fn=<AddmmBackward>) y tensor([[3.4419]])\n",
      "yhat=  tensor([[3.5108]], grad_fn=<AddmmBackward>) y tensor([[2.9838]])\n",
      "yhat=  tensor([[3.3761]], grad_fn=<AddmmBackward>) y tensor([[2.8105]])\n",
      "yhat=  tensor([[3.2413]], grad_fn=<AddmmBackward>) y tensor([[2.5396]])\n",
      "yhat=  tensor([[3.1066]], grad_fn=<AddmmBackward>) y tensor([[2.2276]])\n",
      "yhat=  tensor([[2.9718]], grad_fn=<AddmmBackward>) y tensor([[1.8967]])\n",
      "yhat=  tensor([[2.8371]], grad_fn=<AddmmBackward>) y tensor([[1.5904]])\n",
      "yhat=  tensor([[2.7023]], grad_fn=<AddmmBackward>) y tensor([[1.4880]])\n",
      "yhat=  tensor([[2.5676]], grad_fn=<AddmmBackward>) y tensor([[0.9590]])\n",
      "yhat=  tensor([[2.4328]], grad_fn=<AddmmBackward>) y tensor([[0.6396]])\n",
      "yhat=  tensor([[2.2981]], grad_fn=<AddmmBackward>) y tensor([[0.2400]])\n",
      "yhat=  tensor([[2.1633]], grad_fn=<AddmmBackward>) y tensor([[0.1837]])\n",
      "yhat=  tensor([[2.0286]], grad_fn=<AddmmBackward>) y tensor([[-0.2036]])\n",
      "yhat=  tensor([[1.8939]], grad_fn=<AddmmBackward>) y tensor([[-0.5432]])\n",
      "yhat=  tensor([[1.7591]], grad_fn=<AddmmBackward>) y tensor([[-0.8820]])\n",
      "yhat=  tensor([[1.6244]], grad_fn=<AddmmBackward>) y tensor([[-0.9419]])\n",
      "yhat=  tensor([[1.4896]], grad_fn=<AddmmBackward>) y tensor([[-1.4306]])\n",
      "yhat=  tensor([[1.3549]], grad_fn=<AddmmBackward>) y tensor([[-1.7186]])\n",
      "yhat=  tensor([[1.2201]], grad_fn=<AddmmBackward>) y tensor([[-1.9482]])\n",
      "yhat=  tensor([[1.0854]], grad_fn=<AddmmBackward>) y tensor([[-2.2751]])\n",
      "yhat=  tensor([[0.9506]], grad_fn=<AddmmBackward>) y tensor([[-2.5127]])\n",
      "yhat=  tensor([[0.8159]], grad_fn=<AddmmBackward>) y tensor([[-2.7939]])\n",
      "yhat=  tensor([[0.6811]], grad_fn=<AddmmBackward>) y tensor([[-3.0591]])\n",
      "yhat=  tensor([[0.5464]], grad_fn=<AddmmBackward>) y tensor([[-3.6077]])\n",
      "yhat=  tensor([[0.4116]], grad_fn=<AddmmBackward>) y tensor([[-3.6566]])\n",
      "yhat=  tensor([[0.2769]], grad_fn=<AddmmBackward>) y tensor([[-4.0242]])\n",
      "yhat=  tensor([[0.1422]], grad_fn=<AddmmBackward>) y tensor([[-4.3483]])\n",
      "yhat=  tensor([[0.0074]], grad_fn=<AddmmBackward>) y tensor([[-4.7430]])\n",
      "yhat=  tensor([[-0.1273]], grad_fn=<AddmmBackward>) y tensor([[20.]])\n",
      "yhat=  tensor([[-0.2621]], grad_fn=<AddmmBackward>) y tensor([[20.]])\n",
      "yhat=  tensor([[-0.3968]], grad_fn=<AddmmBackward>) y tensor([[20.]])\n",
      "yhat=  tensor([[-0.5316]], grad_fn=<AddmmBackward>) y tensor([[20.]])\n",
      "yhat=  tensor([[-0.6663]], grad_fn=<AddmmBackward>) y tensor([[20.]])\n",
      "yhat=  tensor([[-0.8011]], grad_fn=<AddmmBackward>) y tensor([[-6.6086]])\n",
      "yhat=  tensor([[-0.9358]], grad_fn=<AddmmBackward>) y tensor([[-6.8501]])\n",
      "yhat=  tensor([[-1.0706]], grad_fn=<AddmmBackward>) y tensor([[-7.0281]])\n",
      "yhat=  tensor([[-1.2053]], grad_fn=<AddmmBackward>) y tensor([[-7.3064]])\n",
      "yhat=  tensor([[-1.3401]], grad_fn=<AddmmBackward>) y tensor([[-7.8765]])\n"
     ]
    }
   ],
   "source": [
    "# Practice: Use the train loader to get the data samples x and y. Produce yhat. Compare y and yhat.\n",
    "\n",
    "good_model = MODELS[2]\n",
    "\n",
    "for x, y in trainloader:\n",
    "    print(\"yhat= \", good_model(x),\"y\", y)"
   ]
  },
  {
   "cell_type": "markdown",
   "metadata": {},
   "source": [
    "Double-click <b>here</b> for the solution.\n",
    "\n",
    "<!-- \n",
    "for x, y in trainloader:\n",
    "    print(\"yhat= \", good_model(x),\"y\", y)\n",
    "-->"
   ]
  },
  {
   "cell_type": "markdown",
   "metadata": {},
   "source": [
    "<!--Empty Space for separating topics-->"
   ]
  },
  {
   "cell_type": "markdown",
   "metadata": {},
   "source": [
    "<a href=\"http://cocl.us/pytorch_link_bottom\">\n",
    "    <img src=\"https://s3-api.us-geo.objectstorage.softlayer.net/cf-courses-data/CognitiveClass/DL0110EN/notebook_images%20/notebook_bottom%20.png\" width=\"750\" alt=\"PyTorch Bottom\" />\n",
    "</a>"
   ]
  },
  {
   "cell_type": "markdown",
   "metadata": {},
   "source": [
    "<h2>About the Authors:</h2> \n",
    "\n",
    "<a href=\"https://www.linkedin.com/in/joseph-s-50398b136/\">Joseph Santarcangelo</a> has a PhD in Electrical Engineering, his research focused on using machine learning, signal processing, and computer vision to determine how videos impact human cognition. Joseph has been working for IBM since he completed his PhD. "
   ]
  },
  {
   "cell_type": "markdown",
   "metadata": {},
   "source": [
    "Other contributors: <a href=\"https://www.linkedin.com/in/michelleccarey/\">Michelle Carey</a>, <a href=\"www.linkedin.com/in/jiahui-mavis-zhou-a4537814a\">Mavis Zhou</a>"
   ]
  },
  {
   "cell_type": "markdown",
   "metadata": {},
   "source": [
    "<hr>"
   ]
  },
  {
   "cell_type": "markdown",
   "metadata": {},
   "source": [
    "Copyright &copy; 2018 <a href=\"cognitiveclass.ai?utm_source=bducopyrightlink&utm_medium=dswb&utm_campaign=bdu\">cognitiveclass.ai</a>. This notebook and its source code are released under the terms of the <a href=\"https://bigdatauniversity.com/mit-license/\">MIT License</a>."
   ]
  }
 ],
 "metadata": {
  "kernelspec": {
   "display_name": "Python",
   "language": "python",
   "name": "conda-env-python-py"
  },
  "language_info": {
   "codemirror_mode": {
    "name": "ipython",
    "version": 3
   },
   "file_extension": ".py",
   "mimetype": "text/x-python",
   "name": "python",
   "nbconvert_exporter": "python",
   "pygments_lexer": "ipython3",
   "version": "3.6.10"
  }
 },
 "nbformat": 4,
 "nbformat_minor": 4
}
